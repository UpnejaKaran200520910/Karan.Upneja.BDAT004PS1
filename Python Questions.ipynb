{
 "cells": [
  {
   "cell_type": "markdown",
   "id": "2ab97baa",
   "metadata": {},
   "source": [
    "Question 6: "
   ]
  },
  {
   "cell_type": "code",
   "execution_count": 1,
   "id": "debe2953",
   "metadata": {},
   "outputs": [
    {
     "name": "stdout",
     "output_type": "stream",
     "text": [
      "Enter String Happy\n",
      "appyhay\n"
     ]
    }
   ],
   "source": [
    "def pig(input):\n",
    "    firstCharacter = input[0]\n",
    "    listofVowel = ['a', 'e', 'i', 'o', 'u', 'A', 'E', 'I', 'O', 'U']\n",
    "    output = \"\"\n",
    "    if firstCharacter not in listofVowel :\n",
    "        #print(s[1].lower()+s[1].lower())\n",
    "        index = 0\n",
    "        for i in input:\n",
    "            if index>0:\n",
    "                output = output + i\n",
    "            index = index + 1\n",
    "        output = output + input[0] +'ay'\n",
    "        print(output.lower())\n",
    "    else : \n",
    "        output = input + 'way'\n",
    "        print(output.lower())\n",
    "inputString = input('Enter String ')\n",
    "pig(inputString)"
   ]
  },
  {
   "cell_type": "markdown",
   "id": "8afc3246",
   "metadata": {},
   "source": [
    "Question 7: "
   ]
  },
  {
   "cell_type": "code",
   "execution_count": 2,
   "id": "e0531e39",
   "metadata": {},
   "outputs": [
    {
     "name": "stdout",
     "output_type": "stream",
     "text": [
      "There are 15 patients of blood type A.\n",
      "There is one patients of blood type B.\n",
      "There are 13 patients of blood type AB.\n",
      "There are 15 patients of blood type O.\n",
      "There are no patients of blood type OO.\n"
     ]
    }
   ],
   "source": [
    "def bldcount(filename):\n",
    "    bldType = [\"A\", \"B\", \"AB\", \"O\", \"OO\"]\n",
    "    count = [0,0,0,0,0]\n",
    "    file = open(filename)\n",
    "    listOfWordsInFile = file.read().split()\n",
    "    for bloodtype in listOfWordsInFile:\n",
    "        index = bldType.index(bloodtype)\n",
    "        count[index] = count[index] + 1\n",
    "    i=0\n",
    "    for bld in bldType:\n",
    "        if count[i] == 0:\n",
    "            print('There are no patients of blood type '+str(bld)+'.')\n",
    "        elif count[i] == 1:\n",
    "            print('There is one patients of blood type '+str(bld)+'.')\n",
    "        else:\n",
    "            print('There are '+str(count[i])+' patients of blood type '+str(bld)+'.')\n",
    "        i += 1\n",
    "bldcount(\"bloodtype.txt\")"
   ]
  },
  {
   "cell_type": "markdown",
   "id": "73a06656",
   "metadata": {},
   "source": [
    "Question 8: "
   ]
  },
  {
   "cell_type": "code",
   "execution_count": 3,
   "id": "ab68b351",
   "metadata": {},
   "outputs": [
    {
     "name": "stdout",
     "output_type": "stream",
     "text": [
      "1.241401\n"
     ]
    }
   ],
   "source": [
    "def curconv(currency, amount):\n",
    "    file = open(\"currencies.txt\")\n",
    "    dt = file.readlines()\n",
    "    str = \"\"\n",
    "    curr = []\n",
    "    am = []\n",
    "    for line in dt:\n",
    "        str = line\n",
    "        curr.append(str.split()[0])\n",
    "        am.append(str.split()[1])\n",
    "    currIndex = curr.index(currency)\n",
    "    amountfromlist = float(am[currIndex])\n",
    "    print(amountfromlist * amount)\n",
    "curconv('JPY', 100)"
   ]
  },
  {
   "cell_type": "markdown",
   "id": "7362f156",
   "metadata": {},
   "source": [
    "Question 9: \n",
    "\n",
    "a. Trying to add incompatible variables, as in adding 6 + 'a' --> TypeError: unsupported operand type(s) for +: 'int' and 'str'\n",
    "\n",
    "b. Referring to the 12th item of a list that has only 10 items --> IndexError: list index out of range\n",
    "\n",
    "c. Using a value that is out of range for a function's input, such as calling math.sqrt(-1.0) --> ValueError: math domain error\n",
    "\n",
    "d. using an undeclared variable, such as print(x) when x is not defined --> NameError: name 'x' is not defined\n",
    "\n",
    "e. Trying to open a file doesn't exist --> FileNotFoundError: No such file or directory: 'abc.txt'"
   ]
  },
  {
   "cell_type": "markdown",
   "id": "1b8d9831",
   "metadata": {},
   "source": [
    "Question 10:"
   ]
  },
  {
   "cell_type": "code",
   "execution_count": 4,
   "id": "077572bc",
   "metadata": {},
   "outputs": [
    {
     "name": "stdout",
     "output_type": "stream",
     "text": [
      "[1, 0, 0, 0, 1, 0, 0, 0, 0, 0, 0, 1, 0, 0, 0, 2, 0, 0, 0, 0, 0, 0, 0, 0, 0, 0]\n"
     ]
    }
   ],
   "source": [
    "def frequencies(string) :\n",
    "    letterInInput = []\n",
    "    for i in string:\n",
    "        letterInInput.append(i)\n",
    "    listOfLetter = ['a' , 'b', 'c', 'd', 'e', 'f', 'g', 'h', 'i', 'j', 'k', 'l', 'm', 'n', 'o', 'p', 'q', 'r', 's', 't', 'u', 'v', 'w', 'x', 'y', 'z']\n",
    "    freq = [0,0,0,0,0,0,0,0,0,0,0,0,0,0,0,0,0,0,0,0,0,0,0,0,0,0]\n",
    "    for l in letterInInput:\n",
    "        if l in listOfLetter:\n",
    "            index = listOfLetter.index(l)\n",
    "            freq[index] += 1\n",
    "    print(freq)\n",
    "frequencies(\"apple\")"
   ]
  }
 ],
 "metadata": {
  "kernelspec": {
   "display_name": "Python 3 (ipykernel)",
   "language": "python",
   "name": "python3"
  },
  "language_info": {
   "codemirror_mode": {
    "name": "ipython",
    "version": 3
   },
   "file_extension": ".py",
   "mimetype": "text/x-python",
   "name": "python",
   "nbconvert_exporter": "python",
   "pygments_lexer": "ipython3",
   "version": "3.9.12"
  }
 },
 "nbformat": 4,
 "nbformat_minor": 5
}
