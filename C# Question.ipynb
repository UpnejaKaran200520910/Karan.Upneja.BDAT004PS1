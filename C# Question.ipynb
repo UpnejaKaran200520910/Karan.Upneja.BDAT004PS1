{
 "cells": [
  {
   "cell_type": "markdown",
   "id": "0627455d",
   "metadata": {},
   "source": [
    "Question 1: \n",
    "\n",
    "1. 5 = int\n",
    "\n",
    "2. 5.0 = double\n",
    "\n",
    "3. 5>1 = bool\n",
    "\n",
    "4. '5' = char\n",
    "\n",
    "5. 5 * 2 = int\n",
    "\n",
    "6. '5' * 2 = int\n",
    "\n",
    "7. '5' + '2' = int\n",
    "\n",
    "8. 5/2 = int\n",
    "\n",
    "9. 5%2 = int\n",
    "\n",
    "10. {5,2,1} = array\n",
    "\n",
    "11. 5 == 3 = bool\n",
    "\n",
    "12. pi(the number) = double"
   ]
  },
  {
   "cell_type": "markdown",
   "id": "e9a0ab12",
   "metadata": {},
   "source": [
    "Question 2 : "
   ]
  },
  {
   "cell_type": "code",
   "execution_count": 1,
   "id": "bbb07400",
   "metadata": {},
   "outputs": [
    {
     "name": "stdout",
     "output_type": "stream",
     "text": [
      "Lenght of Supercalifragilisticexpialidocious is 34\n",
      "Supercalifragilisticexpialidocious contains ice as a substring at position 18\n",
      "String Bababadalgharaghtakamminarronnkonn is longest\n",
      "First Composer : Bartok\n",
      "Last Composer : Buxtehude\n"
     ]
    }
   ],
   "source": [
    "string str1 = \"Supercalifragilisticexpialidocious\";\n",
    "int lenght = str1.Length;\n",
    "\n",
    "//part a : Printing lenght of str\n",
    "Console.WriteLine($\"Lenght of {str1} is {lenght}\");\n",
    "\n",
    "\n",
    "//part b : does 'Supercalifragilisticexpialidocious' contain 'ice' as substring\n",
    "for(int i=0;i<lenght-2;i++)\n",
    "{\n",
    "    string subStr = str1.Substring(i, 3);\n",
    "    //Console.WriteLine(sub);\n",
    "    if(subStr == \"ice\")\n",
    "    {\n",
    "        Console.WriteLine($\"{str1} contains ice as a substring at position {i}\");\n",
    "        break;\n",
    "    }\n",
    "    //else { Console.WriteLine(\"Not found\"); }\n",
    "}\n",
    "\n",
    "//part c: checking longest string\n",
    "string str2 = \"honorificabilitudinitatibus\";\n",
    "string str3 = \"Bababadalgharaghtakamminarronnkonn\";\n",
    "int lenght2 = str2.Length;\n",
    "int lenght3 = str3.Length;\n",
    "if(lenght>lenght2)\n",
    "{\n",
    "    if(lenght>lenght3)\n",
    "    {\n",
    "        Console.WriteLine($\"String {str1} is longest\");\n",
    "    }\n",
    "    else\n",
    "    {\n",
    "        Console.WriteLine($\"String {str3} is longest\");\n",
    "    }\n",
    "}\n",
    "else\n",
    "{\n",
    "    if(lenght2>lenght3)\n",
    "    {\n",
    "        Console.WriteLine($\"String {str2} is longest\");\n",
    "    }\n",
    "    else\n",
    "    {\n",
    "        Console.WriteLine($\"String {str3} is longest\");\n",
    "    }\n",
    "}\n",
    "\n",
    "//part d: Which composer comes first in dictionary\n",
    "\n",
    "SortedSet<string> set = new SortedSet<string>();\n",
    "set.Add(\"Berlioz\");\n",
    "set.Add(\"Borodin\");\n",
    "set.Add(\"Brian\");\n",
    "set.Add(\"Bartok\");\n",
    "set.Add(\"Bellini\");\n",
    "set.Add(\"Buxtehude\");\n",
    "set.Add(\"Bernstein\");\n",
    "\n",
    "Console.WriteLine($\"First Composer : {set.First()}\");\n",
    "Console.WriteLine($\"Last Composer : {set.Last()}\");"
   ]
  },
  {
   "cell_type": "markdown",
   "id": "5ea28553",
   "metadata": {},
   "source": [
    "Question 3: "
   ]
  },
  {
   "cell_type": "code",
   "execution_count": 2,
   "id": "865be3c5",
   "metadata": {},
   "outputs": [
    {
     "name": "stdout",
     "output_type": "stream",
     "text": [
      "1.7320508075688772\r\n"
     ]
    }
   ],
   "source": [
    "double calculateS(int a, int b, int c)\n",
    "{\n",
    "    return (a + b + c) / 2;\n",
    "}\n",
    "\n",
    "double triangeArea(int a, int b, int c)\n",
    "{\n",
    "    double s = calculateS(a, b, c);\n",
    "    double area = Math.Sqrt(s * (s - a) * (s - b) * (s - c));\n",
    "    return area;\n",
    "}\n",
    "Console.WriteLine(triangeArea(2, 2, 2));"
   ]
  },
  {
   "cell_type": "markdown",
   "id": "8630fd8a",
   "metadata": {},
   "source": [
    "Question 4: "
   ]
  },
  {
   "cell_type": "code",
   "execution_count": 3,
   "id": "6d14546a",
   "metadata": {},
   "outputs": [
    {
     "name": "stdout",
     "output_type": "stream",
     "text": [
      "The Even elements are\n",
      "42 56 32 \n",
      "\n",
      "The Odd elements are\n",
      "25 47 "
     ]
    }
   ],
   "source": [
    "\n",
    "\n",
    "//Console.WriteLine(\"Input the number of elements to be stored in the array :\");\n",
    "//int n = Convert.ToInt32(Console.Read());\n",
    "int n = 5;\n",
    "int[] arr = new int[n];\n",
    "\n",
    "arr[0] = 25;\n",
    "arr[1] = 47;\n",
    "arr[2] = 42;\n",
    "arr[3] = 56;\n",
    "arr[4] = 32;\n",
    "\n",
    "\n",
    "//Console.WriteLine($\"Input {n} elements in the array\");\n",
    "//for(int i = 0; i < n; i++)\n",
    "//{\n",
    "//    Console.WriteLine($\"element - {i} : \");\n",
    "//    arr[i] = Convert.ToInt32(Console.Read());\n",
    "//}\n",
    "\n",
    "\n",
    "int evenindex = 0;\n",
    "int oddindex = 0;\n",
    "int[] evenArr = new int[n];\n",
    "int[] oddArr = new int[n];\n",
    "\n",
    "\n",
    "foreach (int i in arr)\n",
    "{\n",
    "    //Console.WriteLine(\"i = \"+i);\n",
    "    \n",
    "    if(i%2 == 0)\n",
    "    {\n",
    "       // Console.WriteLine(\"Inside If\");\n",
    "        evenArr[evenindex] = i;\n",
    "        evenindex++;\n",
    "    }\n",
    "    else\n",
    "    {\n",
    "       // Console.WriteLine(\"Inside else\");\n",
    "        oddArr[oddindex] = i;\n",
    "        oddindex++;\n",
    "    }\n",
    "}\n",
    "\n",
    "Array.Resize(ref evenArr, evenindex);\n",
    "Array.Resize(ref oddArr, oddindex);\n",
    "Console.WriteLine(\"The Even elements are\");\n",
    "printArray(evenArr);\n",
    "Console.WriteLine(\"\\n\");\n",
    "Console.WriteLine(\"The Odd elements are\");\n",
    "printArray(oddArr);\n",
    "\n",
    "void printArray(int[] arr)\n",
    "{\n",
    "foreach (int i in arr)\n",
    "{\n",
    "  Console.Write(i+\" \");\n",
    "}\n",
    "}"
   ]
  },
  {
   "cell_type": "markdown",
   "id": "5d630a5f",
   "metadata": {},
   "source": [
    "Question 5: "
   ]
  },
  {
   "cell_type": "code",
   "execution_count": 4,
   "id": "08678fbf",
   "metadata": {},
   "outputs": [
    {
     "name": "stdout",
     "output_type": "stream",
     "text": [
      "True\n",
      "False\n",
      "no\n"
     ]
    }
   ],
   "source": [
    "//part a:\n",
    "bool inside(double x, double y, double x1, double y1, double x2, double y2)\n",
    "{\n",
    "    if((x>x1 && x<x2) && (y>y1 && y<y2))\n",
    "    {\n",
    "        return true;\n",
    "    }\n",
    "    else\n",
    "    {\n",
    "        return false;\n",
    "    }\n",
    "}\n",
    "\n",
    "Console.WriteLine(inside(1, 1, 0, 0, 2, 3));\n",
    "\n",
    "Console.WriteLine(inside(-1, -1, 0, 0, 2, 3));\n",
    "\n",
    "//part b:\n",
    "if(inside(1,1,0.3,0.5,1.1,0.7) && inside(1, 1, 0.5, 0.2, 1.1, 2))\n",
    "{\n",
    "    Console.WriteLine(\"yes\");\n",
    "}\n",
    "else { Console.WriteLine(\"no\"); }"
   ]
  },
  {
   "cell_type": "code",
   "execution_count": null,
   "id": "4fc39677",
   "metadata": {},
   "outputs": [],
   "source": []
  }
 ],
 "metadata": {
  "kernelspec": {
   "display_name": ".NET (C#)",
   "language": "C#",
   "name": ".net-csharp"
  },
  "language_info": {
   "file_extension": ".cs",
   "mimetype": "text/x-csharp",
   "name": "C#",
   "pygments_lexer": "csharp",
   "version": "8.0"
  }
 },
 "nbformat": 4,
 "nbformat_minor": 5
}
